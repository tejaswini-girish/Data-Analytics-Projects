{
 "cells": [
  {
   "cell_type": "code",
   "execution_count": null,
   "id": "d5cc7521",
   "metadata": {},
   "outputs": [],
   "source": [
    "import pandas as pd\n",
    "import zipfile\n",
    "import numpy as np"
   ]
  },
  {
   "cell_type": "code",
   "execution_count": null,
   "id": "a8b19fe3",
   "metadata": {},
   "outputs": [],
   "source": [
    "pd.set_option('display.max_columns', None)"
   ]
  },
  {
   "cell_type": "markdown",
   "id": "8d12a0af",
   "metadata": {},
   "source": [
    "# Data Cleaning and Transformation"
   ]
  },
  {
   "cell_type": "code",
   "execution_count": null,
   "id": "e2923091",
   "metadata": {},
   "outputs": [],
   "source": [
    "def read_datasets(zipf):\n",
    "    datasets = {}\n",
    "    with zipfile.ZipFile(zipf, \"r\") as arch:\n",
    "        datafiles = [datafile for datafile in arch.namelist() if datafile.split(\".\")[1] == \"csv\"]\n",
    "        for datafile in datafiles:\n",
    "            datasets[datafile.split(\".\")[0]] = pd.read_csv(arch.open(datafile))\n",
    "    return datasets"
   ]
  },
  {
   "cell_type": "code",
   "execution_count": null,
   "id": "d0079173",
   "metadata": {},
   "outputs": [],
   "source": [
    "## 1. Check for dtype of two columns\n",
    "def height_weight_dtype(datasets):    \n",
    "    for key, dataset in datasets.items():\n",
    "        if(dataset[\"height_cm\"].dtype == 'int64' and dataset[\"weight_kg\"].dtype == 'int64'):\n",
    "            print(f\"{key} => Columns : Height and Weight are of type int64\")"
   ]
  },
  {
   "cell_type": "code",
   "execution_count": null,
   "id": "9a7006f6",
   "metadata": {},
   "outputs": [],
   "source": [
    "## 2. Break date column into multiple columns\n",
    "def split_date_cols(datasets):\n",
    "    for key, dataset in datasets.items():\n",
    "        dataset[[\"joined_y\",\"joined_d\",\"joined_m\"]] = dataset[\"joined\"].str.split(\"-\", expand=True)\n",
    "        print(dataset.loc[:, [\"joined\",\"joined_y\",\"joined_m\", \"joined_d\"]])"
   ]
  },
  {
   "cell_type": "code",
   "execution_count": null,
   "id": "93f10b68",
   "metadata": {},
   "outputs": [],
   "source": [
    "## 3. Clean and transform specific columns\n",
    "def clean_and_transform_cols(datasets):\n",
    "    for key, dataset in datasets.items():\n",
    "        dataset.fillna({\"release_clause_eur\":0, \"wage_eur\":0, \"value_eur\":0}, inplace=True)\n",
    "        dataset = dataset.astype({\"release_clause_eur\":'int', \"wage_eur\":'int', \"value_eur\":'int'})"
   ]
  },
  {
   "cell_type": "code",
   "execution_count": null,
   "id": "cd40271b",
   "metadata": {},
   "outputs": [],
   "source": [
    "datasets = read_datasets(\"archive.zip\")"
   ]
  },
  {
   "cell_type": "code",
   "execution_count": null,
   "id": "b3e003ac",
   "metadata": {},
   "outputs": [],
   "source": [
    "height_weight_dtype(datasets)"
   ]
  },
  {
   "cell_type": "code",
   "execution_count": null,
   "id": "176cc7fb",
   "metadata": {},
   "outputs": [],
   "source": [
    "split_date_cols(datasets)"
   ]
  },
  {
   "cell_type": "code",
   "execution_count": null,
   "id": "f95a8fac",
   "metadata": {},
   "outputs": [],
   "source": [
    "clean_and_transform_cols(datasets)\n"
   ]
  },
  {
   "cell_type": "markdown",
   "id": "b2ea118a",
   "metadata": {},
   "source": [
    "# Data Visulaisation"
   ]
  },
  {
   "cell_type": "markdown",
   "id": "6c8fc936",
   "metadata": {},
   "source": [
    "1. AGE CLASSIFICATION"
   ]
  },
  {
   "cell_type": "code",
   "execution_count": null,
   "id": "c3cc42b4",
   "metadata": {},
   "outputs": [],
   "source": [
    "import matplotlib.pyplot as plt"
   ]
  },
  {
   "cell_type": "code",
   "execution_count": null,
   "id": "132b872c",
   "metadata": {},
   "outputs": [],
   "source": [
    "%matplotlib inline"
   ]
  },
  {
   "cell_type": "code",
   "execution_count": null,
   "id": "cd3d4b48",
   "metadata": {},
   "outputs": [],
   "source": [
    "def age_classification_pie(datasets):\n",
    "    for key, dataset in datasets.items():\n",
    "        data = dataset.groupby(pd.cut(dataset['age'], np.arange(15,55,5)))['sofifa_id'].count()\n",
    "        ser = pd.Series(data)\n",
    "        values = ser.values\n",
    "        labels = ser.index\n",
    "        break\n",
    "    return values, labels"
   ]
  },
  {
   "cell_type": "code",
   "execution_count": null,
   "id": "773f6e58",
   "metadata": {},
   "outputs": [],
   "source": [
    "values, labels = age_classification_pie(datasets)"
   ]
  },
  {
   "cell_type": "code",
   "execution_count": null,
   "id": "18ff63f5",
   "metadata": {},
   "outputs": [],
   "source": [
    "fig, ax = plt.subplots(figsize=(5, 15), subplot_kw=dict(aspect=\"equal\"))\n",
    "wedges, texts = ax.pie(values, textprops={'size':'smaller','color':'black'}, shadow=True)\n",
    "\n",
    "pct = [round(value*100/values.sum(),2) for value in values]\n",
    "\n",
    "labels_customised = [f\"{labels[i]} - {pct[i]}%\" for i in range(0,len(pct))]\n",
    "\n",
    "\n",
    "ax.legend(wedges, labels_customised,\n",
    "          title=\"Age Classification among FIFA Players\",\n",
    "          loc=\"center left\",\n",
    "          bbox_to_anchor=(1, 0, 0.5, 1))\n"
   ]
  },
  {
   "cell_type": "markdown",
   "id": "12435136",
   "metadata": {},
   "source": [
    "2. TOP 10 HIGHEST PAID PLAYERS IN A GIVEN YEAR"
   ]
  },
  {
   "cell_type": "code",
   "execution_count": null,
   "id": "307f2288",
   "metadata": {},
   "outputs": [],
   "source": [
    "def top10_highest_paid(year, datasets):\n",
    "    result = {}\n",
    "    dataset = datasets[f\"players_{year[-2:]}\"]\n",
    "    top10_df = dataset.nlargest(10,'wage_eur')[['short_name','wage_eur']]\n",
    "    \n",
    "    xvalues = top10_df[\"short_name\"]\n",
    "    yvalues = top10_df[\"wage_eur\"]\n",
    "    \n",
    "    fig = plt.figure(figsize = (15, 5))\n",
    "    \n",
    "    plt.bar(xvalues, yvalues, color ='maroon',\n",
    "        width = 0.4)\n",
    "    \n",
    "    \n",
    "    plt.xlabel(f\"Top 10 Players of {year}\")\n",
    "    plt.ylabel(\"Salary\")\n",
    "    plt.title(f\"Top 10 highest paid players of {year}\")\n",
    "    \n",
    "    \n",
    "year = input(\"Please provide the year between 2015 - 2021: \")   \n",
    "top10_highest_paid(year, datasets)\n",
    "\n",
    "    "
   ]
  },
  {
   "cell_type": "markdown",
   "id": "48268008",
   "metadata": {},
   "source": [
    "3. CHANGE IN ATTRIBUTES OF A PLAYER OVER THE YEARS"
   ]
  },
  {
   "cell_type": "code",
   "execution_count": null,
   "id": "e9b89a3a",
   "metadata": {},
   "outputs": [],
   "source": [
    "legend_items = datasets[\"players_15\"].keys()[33:39]\n",
    "\n",
    "attributes = {}\n",
    "\n",
    "for i,dataset in datasets.items():\n",
    "    df = dataset[dataset['short_name']=='Cristiano Ronaldo'].iloc[:,33:39]\n",
    "    for x,y in df.items():\n",
    "        attributes.setdefault(x,[]).append(y.values[0])\n",
    "    \n",
    "print(attributes)\n",
    "\n",
    "X_axis = np.arange(len(legend_items))\n",
    "\n",
    "\n",
    "\n",
    "'''\n",
    "for attribute,values in attributes.items():\n",
    "    plt.bar(X_axis - 0.2, values, 0.4, label = attribute)\n",
    "plt.xticks(X_axis, legend_items)\n",
    "plt.xlabel(\"Attributes\")\n",
    "plt.ylabel(\"Values\")\n",
    "plt.title(\"Change in attributes\")\n",
    "plt.legend()\n",
    "'''\n"
   ]
  },
  {
   "cell_type": "code",
   "execution_count": null,
   "id": "635b00ff",
   "metadata": {},
   "outputs": [],
   "source": [
    "\n"
   ]
  },
  {
   "cell_type": "code",
   "execution_count": null,
   "id": "98deaa3d",
   "metadata": {},
   "outputs": [],
   "source": []
  },
  {
   "cell_type": "code",
   "execution_count": null,
   "id": "f0526ac9",
   "metadata": {},
   "outputs": [],
   "source": []
  },
  {
   "cell_type": "code",
   "execution_count": null,
   "id": "53b7e1db",
   "metadata": {},
   "outputs": [],
   "source": []
  }
 ],
 "metadata": {
  "kernelspec": {
   "display_name": "Python 3 (ipykernel)",
   "language": "python",
   "name": "python3"
  },
  "language_info": {
   "codemirror_mode": {
    "name": "ipython",
    "version": 3
   },
   "file_extension": ".py",
   "mimetype": "text/x-python",
   "name": "python",
   "nbconvert_exporter": "python",
   "pygments_lexer": "ipython3",
   "version": "3.10.9"
  }
 },
 "nbformat": 4,
 "nbformat_minor": 5
}
